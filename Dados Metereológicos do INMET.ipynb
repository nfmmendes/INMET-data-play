{
 "cells": [
  {
   "cell_type": "markdown",
   "id": "11962210-c3be-4f6a-984d-bed6470ef6db",
   "metadata": {},
   "source": [
    "<H1> Introdução </H1>\n",
    "<p> \n",
    "    Os dados analisados aqui estão disponíveis no site do Instituto Nacional de Metereologia (INMET) em formato CSV e podem ser baixados através <a href=\"https://portal.inmet.gov.br/dadoshistoricos\"> deste link </a> e por isso não foram incluídos no repositório. \n",
    "</p>\n",
    "\n",
    "<p> \n",
    "    Os dados foram mantidos na organização original, com as tabelas divididas em pastas por ano e em arquivos segundo o local de medição. \n",
    "</p>\n",
    "\n",
    "<p> Uma lista de todos os arquivos disponíveis foi salva no arquivo <i> files.txt </i> para facilitar a consulta dos mesmos e para permitir a quem esteja acessando este repositório consultar rapidamente quais arquivos estão disponíveis sem necessidade de baixá-los no site do INMET. </p>\n",
    "\n",
    "<p> \n",
    "Os dados de 2024 não foram incluídos pois no momento em que este repositório foi criado o ano ainda não tinha acabado. Estes dados serão incluídos em algum momento no futuro. \n",
    "</p>"
   ]
  },
  {
   "cell_type": "code",
   "execution_count": 3,
   "id": "6332873e-fb79-4c11-95b7-6ac3e53d71d1",
   "metadata": {},
   "outputs": [],
   "source": [
    "# Bibliotecas utilizadas\n",
    "import pandas as pd\n",
    "from datetime import datetime\n",
    "import numpy as np\n",
    "import matplotlib.pyplot as plt\n",
    "\n"
   ]
  },
  {
   "cell_type": "code",
   "execution_count": 4,
   "id": "e5c4f920-2bd1-4897-b23f-7d911400ac39",
   "metadata": {},
   "outputs": [],
   "source": [
    "# Lê a lista de arquivos e criar um dataframe com os dados. \n",
    "file = open(\"files.txt\", \"r\")\n",
    "file_content = file.read()\n",
    "file_list = [x for x in file_content.splitlines() if len(x) > 2]\n",
    "file_list_splitted = [ x.replace(\".CSV\",\"\").strip().split('_')[0 : 8] + [x] for x in file_list]\n",
    "df_files = pd.DataFrame(columns=[\"INMET\", \"REGIAO\", \"ESTADO\", \"CODIGO\", \"CIDADE\", \"DATA INI\", \"A\", \"DATA FIM\", \"ARQUIVO\"],\n",
    "                        data = file_list_splitted).drop(columns={\"INMET\", \"A\"})"
   ]
  },
  {
   "cell_type": "code",
   "execution_count": null,
   "id": "4b76c61b-8b67-4cf9-9e30-db99d30bff3a",
   "metadata": {},
   "outputs": [],
   "source": []
  }
 ],
 "metadata": {
  "kernelspec": {
   "display_name": "Python 3 (ipykernel)",
   "language": "python",
   "name": "python3"
  },
  "language_info": {
   "codemirror_mode": {
    "name": "ipython",
    "version": 3
   },
   "file_extension": ".py",
   "mimetype": "text/x-python",
   "name": "python",
   "nbconvert_exporter": "python",
   "pygments_lexer": "ipython3",
   "version": "3.11.9"
  }
 },
 "nbformat": 4,
 "nbformat_minor": 5
}
